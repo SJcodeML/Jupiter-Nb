{
 "cells": [
  {
   "cell_type": "markdown",
   "id": "f474cf2f",
   "metadata": {},
   "source": [
    "<H1>Data Science Tools and Ecosystem</H2>"
   ]
  },
  {
   "cell_type": "markdown",
   "id": "434be429",
   "metadata": {},
   "source": [
    "In this notebook, Data Science Tools and Ecosystem are summarized."
   ]
  },
  {
   "cell_type": "markdown",
   "id": "44206401",
   "metadata": {},
   "source": [
    "**Objectives:**\n",
    "\n",
    "- List popular programming languages for Data Science.\n",
    "- Introduce commonly used libraries in Data Science.\n",
    "- Demonstrate how to create a simple table in Markdown.\n",
    "- Explain how to perform basic arithmetic operations in code cells.\n",
    "- Provide an overview of Jupyter Notebook's usage for data-related tasks."
   ]
  },
  {
   "cell_type": "markdown",
   "id": "bc88cf2d",
   "metadata": {},
   "source": [
    "Some of the popular languages that Data Scientists use are:\n",
    "\n",
    "1. Python: Python is one of the most widely used programming languages in data science. It offers a vast ecosystem of libraries and tools specifically designed for data analysis, machine learning, and visualization\n",
    "2. R: R is another language specifically designed for statistical analysis and data visualization. It has a strong community of users in academia and research\n",
    "3. SQL (Structured Query Language): While not a general-purpose programming language like Python or R, SQL is essential for data scientists."
   ]
  },
  {
   "cell_type": "markdown",
   "id": "d59b701e",
   "metadata": {},
   "source": [
    "Some of the commonly used libraries used by Data Scientists include:\n",
    "\n",
    "1. dplyr: The dplyr library is essential for data manipulation in R.\n",
    "2. ggplot2: ggplot2 is a widely used data visualization library in R.\n",
    "3. tidyr: The tidyr library complements dplyr and is used for tidying and reshaping data. \n",
    "4. caret: caret (Classification and Regression Training) is a versatile library for machine learning in R. "
   ]
  },
  {
   "cell_type": "markdown",
   "id": "eb89767b",
   "metadata": {},
   "source": [
    " \n",
    " | Data Science Tools|                                                                                                         \n",
    " |-------------------|\n",
    " |Jupiter Notebook   |                                                                                                         \n",
    " |RStudio            |                                                                                                          \n",
    " |Apache Zeppelin    |                                                                                                          \n"
   ]
  },
  {
   "cell_type": "markdown",
   "id": "c35e9dd2",
   "metadata": {},
   "source": [
    "<table style=\"border: 1px solid black;\">\n",
    "  <tr>\n",
    "    <th>Data Science Tools</th>\n",
    "  </tr>\n",
    "  <tr>\n",
    "    <td>Jupyter Notebook</td>\n",
    "  </tr>\n",
    "  <tr>\n",
    "    <td>RStudio</td>\n",
    "  </tr>\n",
    "  <tr>\n",
    "    <td>Apache Zeppelin</td>\n",
    "  </tr>\n",
    "</table>"
   ]
  },
  {
   "cell_type": "markdown",
   "id": "9c77109d",
   "metadata": {},
   "source": [
    "Below are a few examples of evaluating arithmetic expressions in Python"
   ]
  },
  {
   "cell_type": "code",
   "execution_count": 1,
   "id": "c3aa91e7",
   "metadata": {
    "collapsed": true
   },
   "outputs": [
    {
     "data": {
      "text/plain": [
       "17"
      ]
     },
     "execution_count": 1,
     "metadata": {},
     "output_type": "execute_result"
    }
   ],
   "source": [
    "#This a simple arithmetic expression to mutiply then add integers.\n",
    "(3*4)+5"
   ]
  },
  {
   "cell_type": "code",
   "execution_count": 2,
   "id": "c667e88a",
   "metadata": {
    "collapsed": true
   },
   "outputs": [
    {
     "data": {
      "text/plain": [
       "3.3333333333333335"
      ]
     },
     "execution_count": 2,
     "metadata": {},
     "output_type": "execute_result"
    }
   ],
   "source": [
    "#This will convert 200 minutes to hours by diving by 60.\n",
    "m = 200\n",
    "h = m / 60\n",
    "h"
   ]
  },
  {
   "cell_type": "markdown",
   "id": "e7c76382",
   "metadata": {},
   "source": [
    "## Author\n",
    "Sidra Jabin"
   ]
  },
  {
   "cell_type": "code",
   "execution_count": null,
   "id": "51724a14",
   "metadata": {},
   "outputs": [],
   "source": []
  }
 ],
 "metadata": {
  "kernelspec": {
   "display_name": "Python 3 (ipykernel)",
   "language": "python",
   "name": "python3"
  },
  "language_info": {
   "codemirror_mode": {
    "name": "ipython",
    "version": 3
   },
   "file_extension": ".py",
   "mimetype": "text/x-python",
   "name": "python",
   "nbconvert_exporter": "python",
   "pygments_lexer": "ipython3",
   "version": "3.11.4"
  }
 },
 "nbformat": 4,
 "nbformat_minor": 5
}
